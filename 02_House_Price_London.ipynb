{
  "nbformat": 4,
  "nbformat_minor": 0,
  "metadata": {
    "colab": {
      "name": "House Price London.ipynb",
      "version": "0.3.2",
      "provenance": [],
      "include_colab_link": true
    },
    "kernelspec": {
      "name": "python3",
      "display_name": "Python 3"
    }
  },
  "cells": [
    {
      "cell_type": "markdown",
      "metadata": {
        "id": "view-in-github",
        "colab_type": "text"
      },
      "source": [
        "<a href=\"https://colab.research.google.com/github/xiaobo-fu/handson-ml/blob/master/02_House_Price_London.ipynb\" target=\"_parent\"><img src=\"https://colab.research.google.com/assets/colab-badge.svg\" alt=\"Open In Colab\"/></a>"
      ]
    },
    {
      "metadata": {
        "id": "K3TWv5qX0lce",
        "colab_type": "code",
        "colab": {}
      },
      "cell_type": "code",
      "source": [
        "# To support both python 2 and python 3\n",
        "from __future__ import division, print_function, unicode_literals\n",
        "\n",
        "# Common imports\n",
        "import numpy as np\n",
        "import os\n",
        "\n",
        "# to make this notebook's output stable across runs\n",
        "np.random.seed(42)\n",
        "\n",
        "# To plot pretty figures\n",
        "%matplotlib inline\n",
        "import matplotlib as mpl\n",
        "import matplotlib.pyplot as plt\n",
        "mpl.rc('axes', labelsize=14)\n",
        "mpl.rc('xtick', labelsize=12)\n",
        "mpl.rc('ytick', labelsize=12)\n",
        "\n",
        "# Where to save the figures\n",
        "PROJECT_ROOT_DIR = \".\"\n",
        "CHAPTER_ID = \"end_to_end_project\"\n",
        "IMAGES_PATH = os.path.join(PROJECT_ROOT_DIR, \"images\", CHAPTER_ID)\n",
        "\n",
        "def save_fig(fig_id, tight_layout=True, fig_extension=\"png\", resolution=300):\n",
        "    path = os.path.join(IMAGES_PATH, fig_id + \".\" + fig_extension)\n",
        "    print(\"Saving figure\", fig_id)\n",
        "    if tight_layout:\n",
        "        plt.tight_layout()\n",
        "    plt.savefig(path, format=fig_extension, dpi=resolution)\n",
        "\n",
        "# Ignore useless warnings (see SciPy issue #5998)\n",
        "#import warnings\n",
        "#warnings.filterwarnings(action=\"ignore\", message=\"^internal gelsd\")"
      ],
      "execution_count": 0,
      "outputs": []
    },
    {
      "metadata": {
        "id": "vE-SPjfP04J5",
        "colab_type": "code",
        "outputId": "08661a25-521d-4214-adba-c625967c9727",
        "colab": {
          "base_uri": "https://localhost:8080/",
          "height": 122
        }
      },
      "cell_type": "code",
      "source": [
        "from google.colab import drive\n",
        "drive.mount('/content/gdrive')"
      ],
      "execution_count": 0,
      "outputs": [
        {
          "output_type": "stream",
          "text": [
            "Go to this URL in a browser: https://accounts.google.com/o/oauth2/auth?client_id=947318989803-6bn6qk8qdgf4n4g3pfee6491hc0brc4i.apps.googleusercontent.com&redirect_uri=urn%3Aietf%3Awg%3Aoauth%3A2.0%3Aoob&scope=email%20https%3A%2F%2Fwww.googleapis.com%2Fauth%2Fdocs.test%20https%3A%2F%2Fwww.googleapis.com%2Fauth%2Fdrive%20https%3A%2F%2Fwww.googleapis.com%2Fauth%2Fdrive.photos.readonly%20https%3A%2F%2Fwww.googleapis.com%2Fauth%2Fpeopleapi.readonly&response_type=code\n",
            "\n",
            "Enter your authorization code:\n",
            "··········\n",
            "Mounted at /content/gdrive\n"
          ],
          "name": "stdout"
        }
      ]
    },
    {
      "metadata": {
        "id": "PmKtiFPZ1AA0",
        "colab_type": "code",
        "colab": {}
      },
      "cell_type": "code",
      "source": [
        "import os\n",
        "import tarfile\n",
        "from six.moves import urllib\n",
        "\n",
        "DOWNLOAD_ROOT = \"https://data.london.gov.uk/download/average-house-prices/59be940c-ffb8-426d-a833-6146ea77de5c/land-registry-house-prices-ward.csv\"\n",
        "HOUSING_PATH = os.path.join(\"datasets\", \"housing\")\n",
        "HOUSING_URL = DOWNLOAD_ROOT\n",
        "\n",
        "def fetch_housing_data(housing_url=HOUSING_URL, housing_path=HOUSING_PATH):\n",
        "    if not os.path.isdir(housing_path):\n",
        "        os.makedirs(housing_path)\n",
        "    tgz_path = os.path.join(housing_path, \"land-registry-house-prices-ward.csv\")\n",
        "    urllib.request.urlretrieve(housing_url, tgz_path)"
      ],
      "execution_count": 0,
      "outputs": []
    },
    {
      "metadata": {
        "id": "kRadu7qP2IOJ",
        "colab_type": "code",
        "colab": {}
      },
      "cell_type": "code",
      "source": [
        "fetch_housing_data()"
      ],
      "execution_count": 0,
      "outputs": []
    },
    {
      "metadata": {
        "id": "EA499Xno2e0J",
        "colab_type": "code",
        "colab": {}
      },
      "cell_type": "code",
      "source": [
        "import pandas as pd\n",
        "\n",
        "def load_housing_data(housing_path=HOUSING_PATH):\n",
        "    csv_path = os.path.join(housing_path, \"land-registry-house-prices-ward.csv\")\n",
        "    return pd.read_csv(csv_path)"
      ],
      "execution_count": 0,
      "outputs": []
    },
    {
      "metadata": {
        "id": "aKh7oywd2iJi",
        "colab_type": "code",
        "outputId": "5d8d888a-40a2-4f8c-f9f9-a9dc25901376",
        "colab": {
          "base_uri": "https://localhost:8080/",
          "height": 204
        }
      },
      "cell_type": "code",
      "source": [
        "housing = load_housing_data()\n",
        "housing.head()"
      ],
      "execution_count": 0,
      "outputs": [
        {
          "output_type": "execute_result",
          "data": {
            "text/html": [
              "<div>\n",
              "<style scoped>\n",
              "    .dataframe tbody tr th:only-of-type {\n",
              "        vertical-align: middle;\n",
              "    }\n",
              "\n",
              "    .dataframe tbody tr th {\n",
              "        vertical-align: top;\n",
              "    }\n",
              "\n",
              "    .dataframe thead th {\n",
              "        text-align: right;\n",
              "    }\n",
              "</style>\n",
              "<table border=\"1\" class=\"dataframe\">\n",
              "  <thead>\n",
              "    <tr style=\"text-align: right;\">\n",
              "      <th></th>\n",
              "      <th>Code</th>\n",
              "      <th>Ward_name</th>\n",
              "      <th>Borough</th>\n",
              "      <th>Year</th>\n",
              "      <th>Measure</th>\n",
              "      <th>Value</th>\n",
              "    </tr>\n",
              "  </thead>\n",
              "  <tbody>\n",
              "    <tr>\n",
              "      <th>0</th>\n",
              "      <td>E09000001</td>\n",
              "      <td>City of London</td>\n",
              "      <td>City of London</td>\n",
              "      <td>Year ending Dec 1995</td>\n",
              "      <td>Median</td>\n",
              "      <td>-</td>\n",
              "    </tr>\n",
              "    <tr>\n",
              "      <th>1</th>\n",
              "      <td>E05000026</td>\n",
              "      <td>Abbey</td>\n",
              "      <td>Barking and Dagenham</td>\n",
              "      <td>Year ending Dec 1995</td>\n",
              "      <td>Median</td>\n",
              "      <td>53,000</td>\n",
              "    </tr>\n",
              "    <tr>\n",
              "      <th>2</th>\n",
              "      <td>E05000027</td>\n",
              "      <td>Alibon</td>\n",
              "      <td>Barking and Dagenham</td>\n",
              "      <td>Year ending Dec 1995</td>\n",
              "      <td>Median</td>\n",
              "      <td>45,000</td>\n",
              "    </tr>\n",
              "    <tr>\n",
              "      <th>3</th>\n",
              "      <td>E05000028</td>\n",
              "      <td>Becontree</td>\n",
              "      <td>Barking and Dagenham</td>\n",
              "      <td>Year ending Dec 1995</td>\n",
              "      <td>Median</td>\n",
              "      <td>49,000</td>\n",
              "    </tr>\n",
              "    <tr>\n",
              "      <th>4</th>\n",
              "      <td>E05000029</td>\n",
              "      <td>Chadwell Heath</td>\n",
              "      <td>Barking and Dagenham</td>\n",
              "      <td>Year ending Dec 1995</td>\n",
              "      <td>Median</td>\n",
              "      <td>59,000</td>\n",
              "    </tr>\n",
              "  </tbody>\n",
              "</table>\n",
              "</div>"
            ],
            "text/plain": [
              "        Code       Ward_name               Borough                  Year  \\\n",
              "0  E09000001  City of London        City of London  Year ending Dec 1995   \n",
              "1  E05000026           Abbey  Barking and Dagenham  Year ending Dec 1995   \n",
              "2  E05000027          Alibon  Barking and Dagenham  Year ending Dec 1995   \n",
              "3  E05000028       Becontree  Barking and Dagenham  Year ending Dec 1995   \n",
              "4  E05000029  Chadwell Heath  Barking and Dagenham  Year ending Dec 1995   \n",
              "\n",
              "  Measure   Value  \n",
              "0  Median       -  \n",
              "1  Median  53,000  \n",
              "2  Median  45,000  \n",
              "3  Median  49,000  \n",
              "4  Median  59,000  "
            ]
          },
          "metadata": {
            "tags": []
          },
          "execution_count": 37
        }
      ]
    },
    {
      "metadata": {
        "id": "XahqgZrj2yxZ",
        "colab_type": "code",
        "outputId": "d97d2788-3e1a-4f4f-8dff-cf86c72551ba",
        "colab": {
          "base_uri": "https://localhost:8080/",
          "height": 204
        }
      },
      "cell_type": "code",
      "source": [
        "housing.info()"
      ],
      "execution_count": 0,
      "outputs": [
        {
          "output_type": "stream",
          "text": [
            "<class 'pandas.core.frame.DataFrame'>\n",
            "RangeIndex: 168210 entries, 0 to 168209\n",
            "Data columns (total 6 columns):\n",
            "Code         168210 non-null object\n",
            "Ward_name    168210 non-null object\n",
            "Borough      168210 non-null object\n",
            "Year         168210 non-null object\n",
            "Measure      168210 non-null object\n",
            "Value        168210 non-null object\n",
            "dtypes: object(6)\n",
            "memory usage: 7.7+ MB\n"
          ],
          "name": "stdout"
        }
      ]
    },
    {
      "metadata": {
        "id": "n7uHX_qL2-SS",
        "colab_type": "code",
        "outputId": "676311d8-ebfe-40f7-f3eb-60ce3d44e8a7",
        "colab": {
          "base_uri": "https://localhost:8080/",
          "height": 1071
        }
      },
      "cell_type": "code",
      "source": [
        "housing[\"Year\"].value_counts()"
      ],
      "execution_count": 0,
      "outputs": [
        {
          "output_type": "execute_result",
          "data": {
            "text/plain": [
              "Year ending Sep 2013    1890\n",
              "Year ending Dec 1997    1890\n",
              "Year ending Jun 1998    1890\n",
              "Year ending Jun 2001    1890\n",
              "Year ending Dec 2002    1890\n",
              "Year ending Jun 2016    1890\n",
              "Year ending Dec 1999    1890\n",
              "Year ending Sep 2002    1890\n",
              "Year ending Dec 2010    1890\n",
              "Year ending Sep 2003    1890\n",
              "Year ending Jun 2009    1890\n",
              "Year ending Dec 2000    1890\n",
              "Year ending Jun 2007    1890\n",
              "Year ending Dec 2015    1890\n",
              "Year ending Sep 1999    1890\n",
              "Year ending Sep 2008    1890\n",
              "Year ending Sep 2001    1890\n",
              "Year ending Jun 2000    1890\n",
              "Year ending Sep 2017    1890\n",
              "Year ending Jun 2003    1890\n",
              "Year ending Dec 2008    1890\n",
              "Year ending Jun 1996    1890\n",
              "Year ending Sep 1996    1890\n",
              "Year ending Sep 2016    1890\n",
              "Year ending Jun 2010    1890\n",
              "Year ending Sep 1998    1890\n",
              "Year ending Jun 2012    1890\n",
              "Year ending Jun 2004    1890\n",
              "Year ending Jun 2017    1890\n",
              "Year ending Dec 2014    1890\n",
              "                        ... \n",
              "Year ending Mar 2017    1260\n",
              "1997                    1260\n",
              "2011                    1260\n",
              "2004                    1260\n",
              "1998                    1260\n",
              "1999                    1260\n",
              "2002                    1260\n",
              "2007                    1260\n",
              "Year ending Mar 2005     630\n",
              "2017                     630\n",
              "Year ending Mar 2013     630\n",
              "Year ending Mar 1996     630\n",
              "Year ending Mar 2004     630\n",
              "Year ending Mar 2009     630\n",
              "Year ending Mar 2006     630\n",
              "Year ending Mar 2007     630\n",
              "Year ending Mar 1998     630\n",
              "Year ending Mar 2010     630\n",
              "Year ending Mar 2002     630\n",
              "Year ending Mar 1997     630\n",
              "Year ending Mar 2000     630\n",
              "Year ending Mar 2012     630\n",
              "2016                     630\n",
              "2015                     630\n",
              "Year ending Mar 2008     630\n",
              "2014                     630\n",
              "Year ending Mar 2001     630\n",
              "Year ending Mar 2003     630\n",
              "Year ending Mar 1999     630\n",
              "Year ending Mar 2011     630\n",
              "Name: Year, Length: 111, dtype: int64"
            ]
          },
          "metadata": {
            "tags": []
          },
          "execution_count": 73
        }
      ]
    },
    {
      "metadata": {
        "colab_type": "code",
        "outputId": "d8d57f25-5e6e-4be7-eda9-cd7e38f5432f",
        "id": "2TbOpVmA4lfY",
        "colab": {
          "base_uri": "https://localhost:8080/",
          "height": 173
        }
      },
      "cell_type": "code",
      "source": [
        "housing.describe()"
      ],
      "execution_count": 0,
      "outputs": [
        {
          "output_type": "execute_result",
          "data": {
            "text/html": [
              "<div>\n",
              "<style scoped>\n",
              "    .dataframe tbody tr th:only-of-type {\n",
              "        vertical-align: middle;\n",
              "    }\n",
              "\n",
              "    .dataframe tbody tr th {\n",
              "        vertical-align: top;\n",
              "    }\n",
              "\n",
              "    .dataframe thead th {\n",
              "        text-align: right;\n",
              "    }\n",
              "</style>\n",
              "<table border=\"1\" class=\"dataframe\">\n",
              "  <thead>\n",
              "    <tr style=\"text-align: right;\">\n",
              "      <th></th>\n",
              "      <th>Code</th>\n",
              "      <th>Ward_name</th>\n",
              "      <th>Borough</th>\n",
              "      <th>Year</th>\n",
              "      <th>Measure</th>\n",
              "      <th>Value</th>\n",
              "    </tr>\n",
              "  </thead>\n",
              "  <tbody>\n",
              "    <tr>\n",
              "      <th>count</th>\n",
              "      <td>168210</td>\n",
              "      <td>168210</td>\n",
              "      <td>168210</td>\n",
              "      <td>168210</td>\n",
              "      <td>168210</td>\n",
              "      <td>168210</td>\n",
              "    </tr>\n",
              "    <tr>\n",
              "      <th>unique</th>\n",
              "      <td>630</td>\n",
              "      <td>607</td>\n",
              "      <td>33</td>\n",
              "      <td>89</td>\n",
              "      <td>3</td>\n",
              "      <td>59768</td>\n",
              "    </tr>\n",
              "    <tr>\n",
              "      <th>top</th>\n",
              "      <td>E05000173</td>\n",
              "      <td>Village</td>\n",
              "      <td>Croydon</td>\n",
              "      <td>2007</td>\n",
              "      <td>Mean</td>\n",
              "      <td>250,000</td>\n",
              "    </tr>\n",
              "    <tr>\n",
              "      <th>freq</th>\n",
              "      <td>267</td>\n",
              "      <td>801</td>\n",
              "      <td>6408</td>\n",
              "      <td>1890</td>\n",
              "      <td>56070</td>\n",
              "      <td>1723</td>\n",
              "    </tr>\n",
              "  </tbody>\n",
              "</table>\n",
              "</div>"
            ],
            "text/plain": [
              "             Code Ward_name  Borough    Year Measure    Value\n",
              "count      168210    168210   168210  168210  168210   168210\n",
              "unique        630       607       33      89       3    59768\n",
              "top     E05000173   Village  Croydon    2007    Mean  250,000\n",
              "freq          267       801     6408    1890   56070     1723"
            ]
          },
          "metadata": {
            "tags": []
          },
          "execution_count": 81
        }
      ]
    },
    {
      "metadata": {
        "colab_type": "code",
        "id": "gidFgPF-9RVh",
        "colab": {}
      },
      "cell_type": "code",
      "source": [
        "#find keyword replace in column\n",
        "\n",
        "def delyear(c): \n",
        "    for i in range(len(c)):\n",
        "        if len(c[i]) > 4:\n",
        "            c[i] = c[i][-4:]\n",
        "        c[i]=float(c[i])\n",
        "       "
      ],
      "execution_count": 0,
      "outputs": []
    },
    {
      "metadata": {
        "id": "FsVhCPvD_JSx",
        "colab_type": "code",
        "colab": {}
      },
      "cell_type": "code",
      "source": [
        "delyear(housing.Year)\n"
      ],
      "execution_count": 0,
      "outputs": []
    },
    {
      "metadata": {
        "id": "5MEB_HAC_iBr",
        "colab_type": "code",
        "outputId": "238efea8-c413-4a6e-986a-0c96f1ba7608",
        "colab": {
          "base_uri": "https://localhost:8080/",
          "height": 1071
        }
      },
      "cell_type": "code",
      "source": [
        "housing[\"Value\"].value_counts()"
      ],
      "execution_count": 0,
      "outputs": [
        {
          "output_type": "execute_result",
          "data": {
            "text/plain": [
              "250,000    1723\n",
              "220,000     498\n",
              "225,000     478\n",
              "230,000     465\n",
              "240,000     461\n",
              "210,000     441\n",
              "200,000     437\n",
              "245,000     432\n",
              "185,000     378\n",
              "235,000     376\n",
              "215,000     367\n",
              "205,000     353\n",
              "175,000     352\n",
              "195,000     342\n",
              "300,000     339\n",
              "180,000     336\n",
              "275,000     325\n",
              "190,000     317\n",
              "285,000     313\n",
              "350,000     306\n",
              "280,000     294\n",
              "270,000     283\n",
              "290,000     281\n",
              "170,000     272\n",
              "320,000     271\n",
              "249,950     267\n",
              "-           267\n",
              "179         265\n",
              "129         264\n",
              "190         262\n",
              "           ... \n",
              "105,300       1\n",
              "115,233       1\n",
              "239,154       1\n",
              "328,829       1\n",
              "81,125        1\n",
              "71,383        1\n",
              "209,566       1\n",
              "257,762       1\n",
              "67,660        1\n",
              "316,788       1\n",
              "390,053       1\n",
              "187,999       1\n",
              "623,203       1\n",
              "139,623       1\n",
              "239,303       1\n",
              "616,846       1\n",
              "282,824       1\n",
              "435,493       1\n",
              "260,563       1\n",
              "268,319       1\n",
              "631,754       1\n",
              "76,751        1\n",
              "817,647       1\n",
              "315,328       1\n",
              "98,142        1\n",
              "499,670       1\n",
              "96,777        1\n",
              "221,338       1\n",
              "445,157       1\n",
              "451,101       1\n",
              "Name: Value, Length: 59768, dtype: int64"
            ]
          },
          "metadata": {
            "tags": []
          },
          "execution_count": 56
        }
      ]
    }
  ]
}